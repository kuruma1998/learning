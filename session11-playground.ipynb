{
 "cells": [
  {
   "cell_type": "markdown",
   "metadata": {},
   "source": [
    "## Session11 - playground (optional)"
   ]
  },
  {
   "cell_type": "code",
   "execution_count": 1,
   "metadata": {},
   "outputs": [],
   "source": [
    "# Usual imports\n",
    "import numpy as np\n",
    "import matplotlib as mpl\n",
    "import matplotlib.pyplot as plt\n",
    "    \n",
    "# Network building and training\n",
    "from tensorflow.keras.layers import Input, Conv2D, MaxPooling2D, Flatten, Dense, Dropout\n",
    "from tensorflow.keras.models import Model\n",
    "from tensorflow.keras.optimizers import Adam\n",
    "from tensorflow.keras.callbacks import ModelCheckpoint, EarlyStopping\n",
    "from tensorflow.keras.utils import to_categorical"
   ]
  },
  {
   "cell_type": "markdown",
   "metadata": {},
   "source": [
    "### Load and prepare the dataset / データを読み込んで準備する"
   ]
  },
  {
   "cell_type": "code",
   "execution_count": 2,
   "metadata": {},
   "outputs": [
    {
     "name": "stdout",
     "output_type": "stream",
     "text": [
      "Training set size: (35000, 28, 28, 1)\n",
      "Testing set size: (35000, 28, 28, 1)\n"
     ]
    }
   ],
   "source": [
    "from mnist_loader import MNISTImageLoader\n",
    "mnist_image_loader = MNISTImageLoader(43)\n",
    "X, y = mnist_image_loader.samples(70000)\n",
    "\n",
    "from sklearn.model_selection import train_test_split\n",
    "X_train, X_test, y_train, y_test  = train_test_split(X, y, test_size=0.5)\n",
    "\n",
    "# Limit the values in [0, 1]\n",
    "X_train = X_train / 255.0\n",
    "X_test = X_test / 255.0\n",
    "\n",
    "print(\"Training set size:\", X_train.shape)\n",
    "print(\"Testing set size:\", X_test.shape)"
   ]
  },
  {
   "cell_type": "markdown",
   "metadata": {},
   "source": [
    "<div style=\"background-color: #FFDDBB; padding: 10px;\">\n",
    "<b>REMINDER</b>: If you are getting strange errors when executing code with neural networks, make sure that you stopped or restarted the kernels in all other notebooks!\n",
    "    \n",
    "<b>注意</b>：ニューラルネットワークのコードを実行しているときに見知らぬエラーが発生した場合は、他のすべてのノートブックでカーネルを停止または再起動したかを確認してください！\n",
    "</div>\n"
   ]
  },
  {
   "cell_type": "markdown",
   "metadata": {},
   "source": [
    "## OPTIONAL 1\n",
    "Create a CNN to recognize MNIST digits. You can re-use the example CNN.\n",
    "<br>\n",
    "You should name your network `network`.\n",
    "\n",
    "\n",
    "MNISTの手書き数字を認識するCNNを作成してください。mainノートブックのサンプルCNNを再利用しても構いません。\n",
    "<br>\n",
    "ネットワークの変数の名前は`network`にしてください。"
   ]
  },
  {
   "cell_type": "code",
   "execution_count": 3,
   "metadata": {},
   "outputs": [
    {
     "name": "stderr",
     "output_type": "stream",
     "text": [
      "2022-05-01 22:51:02.303713: I tensorflow/core/platform/cpu_feature_guard.cc:145] This TensorFlow binary is optimized with Intel(R) MKL-DNN to use the following CPU instructions in performance critical operations:  SSE4.1 SSE4.2\n",
      "To enable them in non-MKL-DNN operations, rebuild TensorFlow with the appropriate compiler flags.\n",
      "2022-05-01 22:51:02.304342: I tensorflow/core/common_runtime/process_util.cc:115] Creating new thread pool with default inter op setting: 8. Tune using inter_op_parallelism_threads for best performance.\n"
     ]
    }
   ],
   "source": [
    "## YOUR CODE HERE\n",
    "input_shape = X_train[0].shape\n",
    "img_input = Input(shape = input_shape, name='input')\n",
    "\n",
    "conv1 = Conv2D(32, kernel_size=(3, 3), activation='relu', name='conv1')(img_input)\n",
    "conv2 = Conv2D(64, (3, 3), activation='relu', name='conv2')(conv1)\n",
    "pool = MaxPooling2D(pool_size=(2, 2), name='pool')(conv2)\n",
    "\n",
    "dp1 = Dropout(0.25)(pool)\n",
    "fl = Flatten()(dp1)\n",
    "\n",
    "fc1 = Dense(128, activation='relu', name=\"fc1\")(fl)\n",
    "dp2 = Dropout(0.5)(fc1)\n",
    "fc2 = Dense(10, activation='softmax', name=\"fc2\")(dp2)\n",
    "network = Model(img_input, fc2, name='CNN_classification')"
   ]
  },
  {
   "cell_type": "code",
   "execution_count": 4,
   "metadata": {
    "scrolled": true
   },
   "outputs": [
    {
     "name": "stdout",
     "output_type": "stream",
     "text": [
      "Model: \"CNN_classification\"\n",
      "_________________________________________________________________\n",
      "Layer (type)                 Output Shape              Param #   \n",
      "=================================================================\n",
      "input (InputLayer)           [(None, 28, 28, 1)]       0         \n",
      "_________________________________________________________________\n",
      "conv1 (Conv2D)               (None, 26, 26, 32)        320       \n",
      "_________________________________________________________________\n",
      "conv2 (Conv2D)               (None, 24, 24, 64)        18496     \n",
      "_________________________________________________________________\n",
      "pool (MaxPooling2D)          (None, 12, 12, 64)        0         \n",
      "_________________________________________________________________\n",
      "dropout (Dropout)            (None, 12, 12, 64)        0         \n",
      "_________________________________________________________________\n",
      "flatten (Flatten)            (None, 9216)              0         \n",
      "_________________________________________________________________\n",
      "fc1 (Dense)                  (None, 128)               1179776   \n",
      "_________________________________________________________________\n",
      "dropout_1 (Dropout)          (None, 128)               0         \n",
      "_________________________________________________________________\n",
      "fc2 (Dense)                  (None, 10)                1290      \n",
      "=================================================================\n",
      "Total params: 1,199,882\n",
      "Trainable params: 1,199,882\n",
      "Non-trainable params: 0\n",
      "_________________________________________________________________\n"
     ]
    }
   ],
   "source": [
    "network.summary()"
   ]
  },
  {
   "cell_type": "code",
   "execution_count": 5,
   "metadata": {},
   "outputs": [],
   "source": [
    "network.compile(loss='categorical_crossentropy', optimizer=Adam(lr=0.01), metrics=['acc'])"
   ]
  },
  {
   "cell_type": "markdown",
   "metadata": {},
   "source": [
    "## OPTIONAL 2\n",
    "- Split the data into a training set and a testing set. \n",
    "- Train again your CNN, using the testing set as validation data\n",
    "- Plot the evolution of the loss functions\n",
    "- Test the performance on the testing set (confusion matrix and accuracy)\n",
    "\n",
    "\n",
    "- MNISTデータセットをトレーニングセットとテストセットに分割する\n",
    "- テストセットを検証データ（`validation_data`引数）として使用し、CNNを再度トレーニングする\n",
    "- 損失関数の進化をプロットする\n",
    "- テストセットでパフォーマンスを確認する（混合行列と精度）"
   ]
  },
  {
   "cell_type": "code",
   "execution_count": 6,
   "metadata": {
    "scrolled": true
   },
   "outputs": [
    {
     "name": "stdout",
     "output_type": "stream",
     "text": [
      "Train on 35000 samples, validate on 35000 samples\n",
      "Epoch 1/20\n",
      "35000/35000 [==============================] - 203s 6ms/sample - loss: 0.3429 - acc: 0.8976 - val_loss: 0.0837 - val_acc: 0.9764\n",
      "Epoch 2/20\n",
      "35000/35000 [==============================] - 196s 6ms/sample - loss: 0.1557 - acc: 0.9530 - val_loss: 0.0724 - val_acc: 0.9778\n",
      "Epoch 3/20\n",
      "35000/35000 [==============================] - 200s 6ms/sample - loss: 0.1350 - acc: 0.9592 - val_loss: 0.0670 - val_acc: 0.9809\n",
      "Epoch 4/20\n",
      "35000/35000 [==============================] - 196s 6ms/sample - loss: 0.1210 - acc: 0.9631 - val_loss: 0.0646 - val_acc: 0.9807\n",
      "Epoch 5/20\n",
      "35000/35000 [==============================] - 208s 6ms/sample - loss: 0.1128 - acc: 0.9653 - val_loss: 0.0590 - val_acc: 0.9835\n",
      "Epoch 6/20\n",
      "35000/35000 [==============================] - 232s 7ms/sample - loss: 0.1092 - acc: 0.9675 - val_loss: 0.0536 - val_acc: 0.9843\n",
      "Epoch 7/20\n",
      "35000/35000 [==============================] - 201s 6ms/sample - loss: 0.1073 - acc: 0.9677 - val_loss: 0.0533 - val_acc: 0.9842\n",
      "Epoch 8/20\n",
      "35000/35000 [==============================] - 202s 6ms/sample - loss: 0.1036 - acc: 0.9690 - val_loss: 0.0611 - val_acc: 0.9823\n",
      "Epoch 9/20\n",
      "35000/35000 [==============================] - 446s 13ms/sample - loss: 0.1024 - acc: 0.9709 - val_loss: 0.0538 - val_acc: 0.9842\n",
      "Epoch 10/20\n",
      "35000/35000 [==============================] - 207s 6ms/sample - loss: 0.1029 - acc: 0.9685 - val_loss: 0.0557 - val_acc: 0.9849\n",
      "Epoch 11/20\n",
      "35000/35000 [==============================] - 199s 6ms/sample - loss: 0.0962 - acc: 0.9707 - val_loss: 0.0660 - val_acc: 0.9820\n",
      "Epoch 12/20\n",
      "35000/35000 [==============================] - 196s 6ms/sample - loss: 0.1035 - acc: 0.9704 - val_loss: 0.0580 - val_acc: 0.9844\n",
      "Epoch 13/20\n",
      "35000/35000 [==============================] - 196s 6ms/sample - loss: 0.0889 - acc: 0.9731 - val_loss: 0.0612 - val_acc: 0.9852\n",
      "Epoch 14/20\n",
      "35000/35000 [==============================] - 196s 6ms/sample - loss: 0.0894 - acc: 0.9731 - val_loss: 0.0553 - val_acc: 0.9857\n",
      "Epoch 15/20\n",
      "35000/35000 [==============================] - 3138s 90ms/sample - loss: 0.0952 - acc: 0.9711 - val_loss: 0.0618 - val_acc: 0.9846\n",
      "Epoch 16/20\n",
      "35000/35000 [==============================] - 30317s 866ms/sample - loss: 0.0915 - acc: 0.9727 - val_loss: 0.0662 - val_acc: 0.9844\n",
      "Epoch 17/20\n",
      "35000/35000 [==============================] - 196s 6ms/sample - loss: 0.0965 - acc: 0.9716 - val_loss: 0.0701 - val_acc: 0.9842\n",
      "Epoch 18/20\n",
      "35000/35000 [==============================] - 1524s 44ms/sample - loss: 0.0895 - acc: 0.9744 - val_loss: 0.0779 - val_acc: 0.9839\n",
      "Epoch 19/20\n",
      "35000/35000 [==============================] - 432s 12ms/sample - loss: 0.0901 - acc: 0.9734 - val_loss: 0.0629 - val_acc: 0.9854\n",
      "Epoch 20/20\n",
      "35000/35000 [==============================] - 196s 6ms/sample - loss: 0.0912 - acc: 0.9727 - val_loss: 0.0704 - val_acc: 0.9825\n"
     ]
    }
   ],
   "source": [
    "## YOUR CODE HERE\n",
    "y_train_one_hot = to_categorical(y_train)\n",
    "y_test_one_hot = to_categorical(y_test)\n",
    "\n",
    "H = network.fit(X_train, y_train_one_hot,\n",
    "                batch_size=100, epochs=20,\n",
    "                validation_data=(X_test, y_test_one_hot),\n",
    "                verbose=1)"
   ]
  },
  {
   "cell_type": "code",
   "execution_count": 7,
   "metadata": {},
   "outputs": [
    {
     "data": {
      "image/png": "[encoded data removed]",
      "text/plain": [
       "<Figure size 432x288 with 1 Axes>"
      ]
     },
     "metadata": {
      "needs_background": "light"
     },
     "output_type": "display_data"
    }
   ],
   "source": [
    "#loss\n",
    "plt.plot(H.history['loss'], 'o-',label=\"loss\")\n",
    "plt.plot(H.history['val_loss'], 'o-', label=\"val_loss\")\n",
    "plt.xlabel(\"epochs\")\n",
    "plt.ylabel(\"loss\")\n",
    "plt.title(\"loss vs epochs\")\n",
    "plt.legend();"
   ]
  },
  {
   "cell_type": "markdown",
   "metadata": {},
   "source": [
    "## OPTIONAL 3\n",
    "- Test hand written digit recognition by running the next cell\n",
    "- Evaluate the performance of the network\n",
    "\n",
    "\n",
    "- 次のセルを実行して手書き数字の認識をテストする\n",
    "- ネットワークのパフォーマンスを評価する"
   ]
  },
  {
   "cell_type": "code",
   "execution_count": 11,
   "metadata": {},
   "outputs": [
    {
     "data": {
      "application/vnd.jupyter.widget-view+json": {
       "model_id": "b3816b6c0ce0482989138eb49b52b8ec",
       "version_major": 2,
       "version_minor": 0
      },
      "text/plain": [
       "HBox(children=(DrawingPad(data=[[], [], []]), Button(description='Clear', style=ButtonStyle(), tooltip='Click …"
      ]
     },
     "metadata": {},
     "output_type": "display_data"
    }
   ],
   "source": [
    "from digit_classifier_widget import digit_classifier_widget\n",
    "    \n",
    "def run_classifier(X):\n",
    "    y_pred_one_hot = network.predict(X)\n",
    "    y_prediction = np.argmax(y_pred_one_hot)\n",
    "    return y_prediction\n",
    "    \n",
    "digit_classifier_widget(run_classifier, image_input=True)"
   ]
  },
  {
   "cell_type": "markdown",
   "metadata": {},
   "source": [
    "How does the preformance compare to the fully connected neural network?\n",
    "<br>\n",
    "Write your impressions in the cell below. \n",
    "\n",
    "全結合に比べて精度はどうでしょうか？\n",
    "<br>\n",
    "感想を下のセルに書いてください。"
   ]
  },
  {
   "cell_type": "markdown",
   "metadata": {},
   "source": [
    "#### WRITE ANSWER HERE\n",
    "ものすごく精度が高い  \n",
    "ただ、トレーニングにものすごく時間がかかった"
   ]
  },
  {
   "cell_type": "code",
   "execution_count": null,
   "metadata": {},
   "outputs": [],
   "source": []
  }
 ],
 "metadata": {
  "kernelspec": {
   "display_name": "Python 3 (ipykernel)",
   "language": "python",
   "name": "python3"
  },
  "language_info": {
   "codemirror_mode": {
    "name": "ipython",
    "version": 3
   },
   "file_extension": ".py",
   "mimetype": "text/x-python",
   "name": "python",
   "nbconvert_exporter": "python",
   "pygments_lexer": "ipython3",
   "version": "3.7.13"
  }
 },
 "nbformat": 4,
 "nbformat_minor": 2
}
