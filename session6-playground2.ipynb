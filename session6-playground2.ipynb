{
 "cells": [
  {
   "cell_type": "markdown",
   "metadata": {},
   "source": [
    "## Session6 - playground2 (Optional)"
   ]
  },
  {
   "cell_type": "code",
   "execution_count": 1,
   "metadata": {},
   "outputs": [],
   "source": [
    "import numpy as np\n",
    "import matplotlib as mpl\n",
    "import matplotlib.pyplot as plt"
   ]
  },
  {
   "cell_type": "code",
   "execution_count": 2,
   "metadata": {},
   "outputs": [],
   "source": [
    "from mnist_loader import MNISTVectorLoader\n",
    "mnist_vector_loader = MNISTVectorLoader(42)\n",
    "X, y = mnist_vector_loader.samples(1000)"
   ]
  },
  {
   "cell_type": "code",
   "execution_count": 3,
   "metadata": {},
   "outputs": [],
   "source": [
    "from sklearn.model_selection import train_test_split\n",
    "from sklearn.preprocessing import StandardScaler\n",
    "\n",
    "X_train, X_test, y_train, y_test  = train_test_split(X, y, test_size=0.25)\n",
    "\n",
    "scaler = StandardScaler()\n",
    "scaler.fit(X_train)\n",
    "X_train = scaler.transform(X_train)\n",
    "X_test = scaler.transform(X_test)"
   ]
  },
  {
   "cell_type": "markdown",
   "metadata": {},
   "source": [
    "Here, we will create a dataset with a certain amount of labelling errors.\n",
    "\n",
    "ここでは、一部のラベル付けが間違えているデータセットを作成します。"
   ]
  },
  {
   "cell_type": "code",
   "execution_count": 29,
   "metadata": {},
   "outputs": [],
   "source": [
    "# Error ratio / エラー率\n",
    "error_ratio = 0.02"
   ]
  },
  {
   "cell_type": "code",
   "execution_count": 30,
   "metadata": {},
   "outputs": [
    {
     "name": "stdout",
     "output_type": "stream",
     "text": [
      "Wrong labels in training set: 15 / 750\n"
     ]
    }
   ],
   "source": [
    "# training set with errors / エラーを含めているトレーニングセット\n",
    "number_errors = int(error_ratio * y_train.shape[0])\n",
    "indices = np.random.permutation(y_train.shape[0])[:number_errors] # randomly select number_errors samples to modify\n",
    "y_train_error = y_train.copy()\n",
    "y_train_error[indices] = y_train_error[indices] + 1\n",
    "y_train_error[y_train_error>9] = 0\n",
    "print(\"Wrong labels in training set: {} / {}\".format(number_errors, y_train.shape[0]))"
   ]
  },
  {
   "cell_type": "code",
   "execution_count": 31,
   "metadata": {},
   "outputs": [
    {
     "name": "stdout",
     "output_type": "stream",
     "text": [
      "Wrong labels in testing set: 5 / 250\n"
     ]
    }
   ],
   "source": [
    "# testing set with errors / エラーを含めているテストセット\n",
    "number_errors = int(error_ratio * y_test.shape[0])\n",
    "indices = np.random.permutation(y_test.shape[0])[:number_errors]\n",
    "y_test_error = y_test.copy()\n",
    "y_test_error[indices] = y_test_error[indices] + 1\n",
    "y_test_error[y_test_error>9] = 0\n",
    "print(\"Wrong labels in testing set: {} / {}\".format(number_errors, y_test.shape[0]))"
   ]
  },
  {
   "cell_type": "markdown",
   "metadata": {},
   "source": [
    "## OPTIONAL 1\n",
    "-  Train a classifier with the dataset containing labelling error `X_train, y_train_error`.\n",
    "\n",
    "\n",
    "- ラベル付けエラーを含むデータセット`X_train、y_train_error`で分類器をトレーニングしてください。"
   ]
  },
  {
   "cell_type": "code",
   "execution_count": 32,
   "metadata": {},
   "outputs": [],
   "source": [
    "## YOUR CODE HERE\n",
    "from sklearn.linear_model import SGDClassifier\n",
    "sgd_classifier = SGDClassifier(max_iter = 1000, tol =  1e-3)\n",
    "#from sklearn.ensemble import RandomForestClassifier\n",
    "#sgd_classifier = RandomForestClassifier()\n",
    "\n",
    "sgd_classifier.fit(X_train, y_train_error); "
   ]
  },
  {
   "cell_type": "markdown",
   "metadata": {},
   "source": [
    "## OPTIONAL 2\n",
    "Test the performance of the trained classifier with:\n",
    "- the test set `X_test, y_test`\n",
    "- the testing set containing labelling error `X_test, y_test_error`\n",
    "\n",
    "\n",
    "トレーニングされた分類器のパフォーマンスを試してください。\n",
    "- 元のテストセット`X_test、y_test`を使って\n",
    "- ラベル付けエラーを含むテストセット `X_test、y_test_error`を使って"
   ]
  },
  {
   "cell_type": "code",
   "execution_count": 33,
   "metadata": {
    "scrolled": true
   },
   "outputs": [
    {
     "data": {
      "application/vnd.jupyter.widget-view+json": {
       "model_id": "c3771cb7c7044ad9bb4bc2eb02357705",
       "version_major": 2,
       "version_minor": 0
      },
      "text/plain": [
       "HBox(children=(DrawingPad(data=[[], [], []]), Button(description='Clear', style=ButtonStyle(), tooltip='Click …"
      ]
     },
     "metadata": {},
     "output_type": "display_data"
    }
   ],
   "source": [
    "#X_test、y_testを使って\n",
    "import gzip\n",
    "import pickle\n",
    "output_file = \"./data/mnist_classification.pkl.gz\"\n",
    "with gzip.open( output_file, \"wb\") as fp:\n",
    "    pickle.dump([X_test, y_test, scaler, sgd_classifier], fp) \n",
    "    \n",
    "import gzip\n",
    "import pickle\n",
    "input_file = \"./data/mnist_classification.pkl.gz\"\n",
    "with gzip.open( input_file, \"rb\") as fp:\n",
    "    [X_test, y_test, scaler, sgd_classifier] = pickle.load(fp)\n",
    "    \n",
    "from digit_classifier_widget import digit_classifier_widget\n",
    "    \n",
    "def run_classifier(X):\n",
    "    y_prediction = sgd_classifier.predict(X)[0] \n",
    "    return y_prediction\n",
    "    \n",
    "digit_classifier_widget(scaler, run_classifier)"
   ]
  },
  {
   "cell_type": "code",
   "execution_count": 34,
   "metadata": {},
   "outputs": [
    {
     "data": {
      "application/vnd.jupyter.widget-view+json": {
       "model_id": "43c0776c5f7e490fa1ab76cd05c3ef58",
       "version_major": 2,
       "version_minor": 0
      },
      "text/plain": [
       "HBox(children=(DrawingPad(data=[[], [], []]), Button(description='Clear', style=ButtonStyle(), tooltip='Click …"
      ]
     },
     "metadata": {},
     "output_type": "display_data"
    }
   ],
   "source": [
    "#X_test、y_test_errorを使って\n",
    "import gzip\n",
    "import pickle\n",
    "output_file = \"./data/error_mnist_classification.pkl.gz\"\n",
    "with gzip.open( output_file, \"wb\") as fp:\n",
    "    pickle.dump([X_test, y_test_error, scaler, sgd_classifier], fp) \n",
    "    \n",
    "import gzip\n",
    "import pickle\n",
    "input_file = \"./data/error_mnist_classification.pkl.gz\"\n",
    "with gzip.open( input_file, \"rb\") as fp:\n",
    "    [X_test, y_test_error, scaler, sgd_classifier] = pickle.load(fp)\n",
    "    \n",
    "from digit_classifier_widget import digit_classifier_widget\n",
    "    \n",
    "def run_classifier(X):\n",
    "    y_prediction = sgd_classifier.predict(X)[0] \n",
    "    return y_prediction\n",
    "    \n",
    "digit_classifier_widget(scaler, run_classifier)"
   ]
  },
  {
   "cell_type": "markdown",
   "metadata": {},
   "source": [
    "- Try changing the values of `error_ratio` to see how it influences the performance\n",
    "\n",
    "\n",
    "- `error_ratio`の値を変更して、パフォーマンスにどのように影響するかを確認してください"
   ]
  },
  {
   "cell_type": "markdown",
   "metadata": {},
   "source": [
    "ラベル付けエラーを含むテストセットの方がパフォーマンスは良いけれど、error ratioをあげすぎると今度はパフォーマンスが悪くなる。"
   ]
  },
  {
   "cell_type": "code",
   "execution_count": null,
   "metadata": {},
   "outputs": [],
   "source": []
  }
 ],
 "metadata": {
  "kernelspec": {
   "display_name": "Python 3 (ipykernel)",
   "language": "python",
   "name": "python3"
  },
  "language_info": {
   "codemirror_mode": {
    "name": "ipython",
    "version": 3
   },
   "file_extension": ".py",
   "mimetype": "text/x-python",
   "name": "python",
   "nbconvert_exporter": "python",
   "pygments_lexer": "ipython3",
   "version": "3.7.13"
  }
 },
 "nbformat": 4,
 "nbformat_minor": 2
}
