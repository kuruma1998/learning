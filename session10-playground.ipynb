{
 "cells": [
  {
   "cell_type": "markdown",
   "metadata": {},
   "source": [
    "## Session10 - playground"
   ]
  },
  {
   "cell_type": "markdown",
   "metadata": {},
   "source": [
    "### Whole training from the beginning / 初めからのトレーニング\n",
    "\n",
    "Let's first run the whole network training process from the start.\n",
    "\n",
    "まずは、最初からネットワークトレーニングを行います。"
   ]
  },
  {
   "cell_type": "markdown",
   "metadata": {},
   "source": [
    "<div style=\"background-color: #FFDDBB; padding: 10px;\">\n",
    "<b>REMINDER</b>: If you are getting strange errors when executing code with neural networks, make sure that you stopped or restarted the kernels in all other notebooks!\n",
    "    \n",
    "<b>注意</b>：ニューラルネットワークのコードを実行しているときに見知らぬエラーが発生した場合は、他のすべてのノートブックでカーネルを停止または再起動したかを確認してください！\n",
    "</div>\n"
   ]
  },
  {
   "cell_type": "markdown",
   "metadata": {},
   "source": [
    "#### Imports"
   ]
  },
  {
   "cell_type": "code",
   "execution_count": 1,
   "metadata": {},
   "outputs": [],
   "source": [
    "import numpy as np\n",
    "import matplotlib as mpl\n",
    "import matplotlib.pyplot as plt\n",
    "\n",
    "# Import Tensorflow \n",
    "import tensorflow as tf\n",
    "\n",
    "# Import Keras stuff\n",
    "from tensorflow.keras.layers import Input, Conv2D, MaxPooling2D, Flatten, Dense, Dropout, LSTM\n",
    "from tensorflow.keras.models import Model, load_model\n",
    "from tensorflow.keras.optimizers import Adam\n",
    "from tensorflow.keras.callbacks import ModelCheckpoint, EarlyStopping\n",
    "from tensorflow.keras.utils import to_categorical"
   ]
  },
  {
   "cell_type": "markdown",
   "metadata": {},
   "source": [
    "#### Load MNIST and create the training and testing sets"
   ]
  },
  {
   "cell_type": "code",
   "execution_count": 2,
   "metadata": {},
   "outputs": [],
   "source": [
    "from mnist_loader import MNISTVectorLoader\n",
    "mnist_vector_loader = MNISTVectorLoader(43)\n",
    "X, y = mnist_vector_loader.samples(70000)\n",
    "\n",
    "from sklearn.model_selection import train_test_split\n",
    "X_train, X_test, y_train, y_test  = train_test_split(X, y, test_size=0.5)\n",
    "\n",
    "from sklearn.preprocessing import StandardScaler\n",
    "scaler = StandardScaler()\n",
    "scaler.fit(X_train)\n",
    "X_train = scaler.transform(X_train)\n",
    "X_test = scaler.transform(X_test)"
   ]
  },
  {
   "cell_type": "markdown",
   "metadata": {},
   "source": [
    "#### Define the network\n",
    "<a id='define_the_network'></a>"
   ]
  },
  {
   "cell_type": "code",
   "execution_count": 3,
   "metadata": {},
   "outputs": [
    {
     "name": "stdout",
     "output_type": "stream",
     "text": [
      "Model: \"classification\"\n",
      "_________________________________________________________________\n",
      "Layer (type)                 Output Shape              Param #   \n",
      "=================================================================\n",
      "input (InputLayer)           [(None, 784)]             0         \n",
      "_________________________________________________________________\n",
      "fc1 (Dense)                  (None, 128)               100480    \n",
      "_________________________________________________________________\n",
      "fc2 (Dense)                  (None, 128)               16512     \n",
      "_________________________________________________________________\n",
      "output (Dense)               (None, 10)                1290      \n",
      "=================================================================\n",
      "Total params: 118,282\n",
      "Trainable params: 118,282\n",
      "Non-trainable params: 0\n",
      "_________________________________________________________________\n"
     ]
    },
    {
     "name": "stderr",
     "output_type": "stream",
     "text": [
      "2022-05-01 23:18:38.480109: I tensorflow/core/platform/cpu_feature_guard.cc:145] This TensorFlow binary is optimized with Intel(R) MKL-DNN to use the following CPU instructions in performance critical operations:  SSE4.1 SSE4.2\n",
      "To enable them in non-MKL-DNN operations, rebuild TensorFlow with the appropriate compiler flags.\n",
      "2022-05-01 23:18:38.480738: I tensorflow/core/common_runtime/process_util.cc:115] Creating new thread pool with default inter op setting: 8. Tune using inter_op_parallelism_threads for best performance.\n"
     ]
    }
   ],
   "source": [
    "input_shape = X_train[0].shape\n",
    "vector_input = Input(shape = input_shape, name='input')\n",
    "\n",
    "fc1 = Dense(128, activation='relu', name='fc1')(vector_input)\n",
    "\n",
    "fc2 = Dense(128, activation='relu', name='fc2')(fc1)\n",
    "\n",
    "output = Dense(10, activation='softmax', name='output')(fc2)\n",
    "\n",
    "network = Model(vector_input, output, name='classification')\n",
    "\n",
    "network.summary()\n",
    "\n",
    "network.compile(loss='categorical_crossentropy', optimizer=Adam(lr=0.01), metrics=['acc'])"
   ]
  },
  {
   "cell_type": "markdown",
   "metadata": {},
   "source": [
    "#### Train the network"
   ]
  },
  {
   "cell_type": "code",
   "execution_count": 4,
   "metadata": {},
   "outputs": [],
   "source": [
    "y_train_one_hot = to_categorical(y_train)\n",
    "y_test_one_hot = to_categorical(y_test)"
   ]
  },
  {
   "cell_type": "code",
   "execution_count": 5,
   "metadata": {
    "scrolled": true
   },
   "outputs": [
    {
     "name": "stdout",
     "output_type": "stream",
     "text": [
      "Train on 35000 samples, validate on 35000 samples\n",
      "Epoch 1/20\n",
      "35000/35000 [==============================] - 5s 149us/sample - loss: 0.3435 - acc: 0.9044 - val_loss: 0.2959 - val_acc: 0.9183\n",
      "Epoch 2/20\n",
      "35000/35000 [==============================] - 4s 126us/sample - loss: 0.2362 - acc: 0.9366 - val_loss: 0.2741 - val_acc: 0.9285\n",
      "Epoch 3/20\n",
      "35000/35000 [==============================] - 4s 126us/sample - loss: 0.2213 - acc: 0.9426 - val_loss: 0.2667 - val_acc: 0.9373\n",
      "Epoch 4/20\n",
      "35000/35000 [==============================] - 4s 126us/sample - loss: 0.2088 - acc: 0.9459 - val_loss: 0.2341 - val_acc: 0.9459\n",
      "Epoch 5/20\n",
      "35000/35000 [==============================] - 4s 123us/sample - loss: 0.1852 - acc: 0.9514 - val_loss: 0.3015 - val_acc: 0.9415\n",
      "Epoch 6/20\n",
      "35000/35000 [==============================] - 5s 135us/sample - loss: 0.1685 - acc: 0.9576 - val_loss: 0.2698 - val_acc: 0.9481\n",
      "Epoch 7/20\n",
      "35000/35000 [==============================] - 5s 133us/sample - loss: 0.1423 - acc: 0.9631 - val_loss: 0.2834 - val_acc: 0.9473\n",
      "Epoch 8/20\n",
      "35000/35000 [==============================] - 5s 140us/sample - loss: 0.1894 - acc: 0.9562 - val_loss: 0.2931 - val_acc: 0.9376\n",
      "Epoch 9/20\n",
      "35000/35000 [==============================] - 5s 144us/sample - loss: 0.1439 - acc: 0.9628 - val_loss: 0.3067 - val_acc: 0.9409\n",
      "Epoch 10/20\n",
      "35000/35000 [==============================] - 5s 144us/sample - loss: 0.1663 - acc: 0.9614 - val_loss: 0.3140 - val_acc: 0.9387\n",
      "Epoch 11/20\n",
      "35000/35000 [==============================] - 5s 146us/sample - loss: 0.1751 - acc: 0.9596 - val_loss: 0.3907 - val_acc: 0.9386\n",
      "Epoch 12/20\n",
      "35000/35000 [==============================] - 5s 144us/sample - loss: 0.1677 - acc: 0.9600 - val_loss: 0.3242 - val_acc: 0.9465\n",
      "Epoch 13/20\n",
      "35000/35000 [==============================] - 5s 144us/sample - loss: 0.1384 - acc: 0.9655 - val_loss: 0.3890 - val_acc: 0.9403\n",
      "Epoch 14/20\n",
      "35000/35000 [==============================] - 5s 144us/sample - loss: 0.1578 - acc: 0.9612 - val_loss: 0.3339 - val_acc: 0.9476\n",
      "Epoch 15/20\n",
      "35000/35000 [==============================] - 5s 143us/sample - loss: 0.1683 - acc: 0.9624 - val_loss: 0.4074 - val_acc: 0.9408\n",
      "Epoch 16/20\n",
      "35000/35000 [==============================] - 5s 144us/sample - loss: 0.1682 - acc: 0.9601 - val_loss: 0.3889 - val_acc: 0.9489\n",
      "Epoch 17/20\n",
      "35000/35000 [==============================] - 5s 146us/sample - loss: 0.1270 - acc: 0.9661 - val_loss: 0.4147 - val_acc: 0.9475\n",
      "Epoch 18/20\n",
      "35000/35000 [==============================] - 5s 147us/sample - loss: 0.1330 - acc: 0.9661 - val_loss: 0.4843 - val_acc: 0.9356\n",
      "Epoch 19/20\n",
      "35000/35000 [==============================] - 5s 144us/sample - loss: 0.1459 - acc: 0.9662 - val_loss: 0.4101 - val_acc: 0.9376\n",
      "Epoch 20/20\n",
      "35000/35000 [==============================] - 5s 147us/sample - loss: 0.1579 - acc: 0.9629 - val_loss: 0.4580 - val_acc: 0.9346\n"
     ]
    }
   ],
   "source": [
    "H = network.fit(X_train, y_train_one_hot,\n",
    "                batch_size=100, epochs=20,\n",
    "                validation_data=(X_test, y_test_one_hot),\n",
    "                verbose=1)"
   ]
  },
  {
   "cell_type": "markdown",
   "metadata": {},
   "source": [
    "## TASK 1\n",
    "Plot the evolution of the losses and accuracies.\n",
    "\n",
    "損失と精度の進化をプロットしてください。"
   ]
  },
  {
   "cell_type": "code",
   "execution_count": 6,
   "metadata": {},
   "outputs": [
    {
     "data": {
      "image/png": "[encoded data removed]",
      "text/plain": [
       "<Figure size 432x288 with 1 Axes>"
      ]
     },
     "metadata": {
      "needs_background": "light"
     },
     "output_type": "display_data"
    }
   ],
   "source": [
    "## YOUR CODE HERE\n",
    "#loss\n",
    "plt.plot(H.history['loss'], 'o-',label=\"loss\")\n",
    "plt.plot(H.history['val_loss'], 'o-', label=\"val_loss\")\n",
    "plt.xlabel(\"epochs\")\n",
    "plt.ylabel(\"loss\")\n",
    "plt.title(\"loss vs epochs\")\n",
    "plt.legend();"
   ]
  },
  {
   "cell_type": "code",
   "execution_count": 7,
   "metadata": {},
   "outputs": [
    {
     "data": {
      "image/png": "[encoded data removed]",
      "text/plain": [
       "<Figure size 432x288 with 1 Axes>"
      ]
     },
     "metadata": {
      "needs_background": "light"
     },
     "output_type": "display_data"
    }
   ],
   "source": [
    "#acc\n",
    "plt.plot(H.history['acc'], 'o-', label=\"acc\")\n",
    "plt.plot(H.history['val_acc'], 'o-', label=\"val_acc\")\n",
    "plt.xlabel(\"epochs\")\n",
    "plt.ylabel(\"acc\")\n",
    "plt.title(\"Accuracy vs epochs\")\n",
    "plt.legend();"
   ]
  },
  {
   "cell_type": "markdown",
   "metadata": {},
   "source": [
    "## TASK 2\n",
    "Re-run the training but this time:\n",
    "- Stop the training when `val_acc` the accuracy on the validation set does not grow anymore \n",
    "- Save the model with the best accuracy as `my_best_network.hdf5`\n",
    "\n",
    "トレーニングを再実行してください。今回は\n",
    " - テストセットの精度（`val_acc`）が向上しなくなったら、トレーニングを中断する\n",
    " - モデルを `my_best_network.hdf5`として最高の精度で保存します\n",
    "\n",
    "Note that you have to recreate the network to re-initialize the weights if you want to re-train from scratch.\n",
    "<br>\n",
    "Otherwise the training just updates the current weights.\n",
    "<br>So, you have to re-run the cells from the \"Define the network\" section above to create a new model with fresh weights.\n",
    "\n",
    "注：最初からトレーニングをやり直す場合は、重みを再初期化する必要があります（そうしなければ、トレーニングは現在の重みを更新するだけです）。そのためネットワークを再作成しなければなりません。\n",
    "<br>\n",
    "以上の「Define the network」章からのセルを再実行して、新しい重みを持つ新しいモデルを作成してください。"
   ]
  },
  {
   "cell_type": "markdown",
   "metadata": {},
   "source": [
    "Plot again the evolution of the losses and accuracies.\n",
    "\n",
    "もう一度損失と精度の進化をプロットしてください。"
   ]
  },
  {
   "cell_type": "code",
   "execution_count": 9,
   "metadata": {
    "scrolled": true
   },
   "outputs": [
    {
     "name": "stdout",
     "output_type": "stream",
     "text": [
      "WARNING:tensorflow:`period` argument is deprecated. Please use `save_freq` to specify the frequency in number of samples seen.\n",
      "Train on 35000 samples, validate on 35000 samples\n",
      "Epoch 1/20\n",
      "34400/35000 [============================>.] - ETA: 0s - loss: 0.1493 - acc: 0.9629\n",
      "Epoch 00001: val_loss improved from inf to 0.49671, saving model to best_network.hdf5\n",
      "35000/35000 [==============================] - 6s 159us/sample - loss: 0.1490 - acc: 0.9629 - val_loss: 0.4967 - val_acc: 0.9370\n",
      "Epoch 2/20\n",
      "34700/35000 [============================>.] - ETA: 0s - loss: 0.1435 - acc: 0.9658\n",
      "Epoch 00002: val_loss improved from 0.49671 to 0.47354, saving model to best_network.hdf5\n",
      "35000/35000 [==============================] - 6s 160us/sample - loss: 0.1434 - acc: 0.9657 - val_loss: 0.4735 - val_acc: 0.9445\n",
      "Epoch 3/20\n",
      "34700/35000 [============================>.] - ETA: 0s - loss: 0.1156 - acc: 0.9701\n",
      "Epoch 00003: val_loss did not improve from 0.47354\n",
      "35000/35000 [==============================] - 5s 156us/sample - loss: 0.1157 - acc: 0.9701 - val_loss: 0.6909 - val_acc: 0.9300\n",
      "Epoch 4/20\n",
      "34700/35000 [============================>.] - ETA: 0s - loss: 0.1498 - acc: 0.9644\n",
      "Epoch 00004: val_loss improved from 0.47354 to 0.46372, saving model to best_network.hdf5\n",
      "35000/35000 [==============================] - 5s 145us/sample - loss: 0.1495 - acc: 0.9644 - val_loss: 0.4637 - val_acc: 0.9359\n",
      "Epoch 5/20\n",
      "34800/35000 [============================>.] - ETA: 0s - loss: 0.1414 - acc: 0.9654\n",
      "Epoch 00005: val_loss did not improve from 0.46372\n",
      "35000/35000 [==============================] - 5s 143us/sample - loss: 0.1414 - acc: 0.9654 - val_loss: 0.6107 - val_acc: 0.9267\n",
      "Epoch 6/20\n",
      "34800/35000 [============================>.] - ETA: 0s - loss: 0.1550 - acc: 0.9590\n",
      "Epoch 00006: val_loss did not improve from 0.46372\n",
      "35000/35000 [==============================] - 6s 157us/sample - loss: 0.1552 - acc: 0.9590 - val_loss: 0.6652 - val_acc: 0.9336\n",
      "Epoch 00006: early stopping\n"
     ]
    }
   ],
   "source": [
    "## YOUR CODE HERE\n",
    "early_stopping_cb = EarlyStopping(monitor='val_loss', min_delta=0.001, patience=2, verbose=1, mode='auto')\n",
    "model_checkpoint_cb = ModelCheckpoint(\"best_network.hdf5\", monitor='val_loss', verbose=1, \n",
    "                                      save_best_only=True, save_weights_only=False, mode='auto', period=1)\n",
    "\n",
    "H = network.fit(X_train, y_train_one_hot, batch_size=100, epochs=20, validation_data=(X_test, y_test_one_hot),\n",
    "                callbacks=[early_stopping_cb, model_checkpoint_cb], verbose=1)\n",
    "\n",
    "network.load_weights('best_network.hdf5')\n",
    "\n",
    "from tensorflow.keras.models import load_model\n",
    "best_network = load_model('best_network.hdf5')"
   ]
  },
  {
   "cell_type": "code",
   "execution_count": 10,
   "metadata": {
    "scrolled": true
   },
   "outputs": [
    {
     "data": {
      "image/png": "[encoded data removed]",
      "text/plain": [
       "<Figure size 432x288 with 1 Axes>"
      ]
     },
     "metadata": {
      "needs_background": "light"
     },
     "output_type": "display_data"
    }
   ],
   "source": [
    "#loss\n",
    "plt.plot(H.history['loss'], 'o-',label=\"loss\")\n",
    "plt.plot(H.history['val_loss'], 'o-', label=\"val_loss\")\n",
    "plt.xlabel(\"epochs\")\n",
    "plt.ylabel(\"loss\")\n",
    "plt.title(\"loss vs epochs\")\n",
    "plt.legend();"
   ]
  },
  {
   "cell_type": "code",
   "execution_count": 11,
   "metadata": {},
   "outputs": [
    {
     "data": {
      "image/png": "[encoded data removed]",
      "text/plain": [
       "<Figure size 432x288 with 1 Axes>"
      ]
     },
     "metadata": {
      "needs_background": "light"
     },
     "output_type": "display_data"
    }
   ],
   "source": [
    "#acc\n",
    "plt.plot(H.history['acc'], 'o-', label=\"acc\")\n",
    "plt.plot(H.history['val_acc'], 'o-', label=\"val_acc\")\n",
    "plt.xlabel(\"epochs\")\n",
    "plt.ylabel(\"acc\")\n",
    "plt.title(\"Accuracy vs epochs\")\n",
    "plt.legend();"
   ]
  },
  {
   "cell_type": "markdown",
   "metadata": {},
   "source": [
    "## TASK 3 - Recognize your own writting / 自分の手書き数字の認識\n",
    "\n",
    "In the tests above the testing data was also from MNIST.\n",
    "<br>\n",
    "Let us now try to recognize some handwritten digits that are not from MNIST.\n",
    "\n",
    "今までは、トレーニングにもテストにもMNISTのデータを使っていました。\n",
    "<br>\n",
    "今度は自分が書いた手書きの数字を認識してみましょう。"
   ]
  },
  {
   "cell_type": "markdown",
   "metadata": {},
   "source": [
    "First load the network you want to test.\n",
    "\n",
    "まず試してみたいネットワークをロードします。"
   ]
  },
  {
   "cell_type": "code",
   "execution_count": 12,
   "metadata": {},
   "outputs": [],
   "source": [
    "network = load_model(\"my_network.hdf5\")"
   ]
  },
  {
   "cell_type": "markdown",
   "metadata": {},
   "source": [
    "Then, use the next cell  to draw a digit to test the classifier:\n",
    "- Draw in the middle of the dark area\n",
    "- The prediction is updated at each stroke\n",
    "- Use the clear button to erase\n",
    "\n",
    "Try the classification multiple times to empirically check the accuracy of the classifier.\n",
    "\n",
    "次に、次のセルを使って数字を描いて分類器をテストしてください。\n",
    " - 暗い領域の真ん中に描いて\n",
    " - 予測は各ストロークで更新されます\n",
    " - 消去するにはクリアボタンを使用してください\n",
    "\n",
    "分類器の精度を経験的に確認するために、分類を複数回試してください。"
   ]
  },
  {
   "cell_type": "code",
   "execution_count": 13,
   "metadata": {
    "scrolled": true
   },
   "outputs": [
    {
     "data": {
      "application/vnd.jupyter.widget-view+json": {
       "model_id": "409438623b654a6b9c8a9756d40ba4d4",
       "version_major": 2,
       "version_minor": 0
      },
      "text/plain": [
       "HBox(children=(DrawingPad(data=[[], [], []]), Button(description='Clear', style=ButtonStyle(), tooltip='Click …"
      ]
     },
     "metadata": {},
     "output_type": "display_data"
    }
   ],
   "source": [
    "from digit_classifier_widget import digit_classifier_widget\n",
    "    \n",
    "def run_classifier(X):\n",
    "    y_pred_one_hot = network.predict(X)\n",
    "    y_prediction = np.argmax(y_pred_one_hot)\n",
    "    return y_prediction\n",
    "    \n",
    "digit_classifier_widget(run_classifier, scaler)"
   ]
  },
  {
   "cell_type": "markdown",
   "metadata": {},
   "source": [
    "How does it compare to the SVM classifier from last week?\n",
    "<br>\n",
    "Write your impressions in the cell below. \n",
    "\n",
    "先週のSVM分類器と比べてどうでしょうか？\n",
    "<br>\n",
    "感想を下のセルに書いてください。"
   ]
  },
  {
   "cell_type": "markdown",
   "metadata": {},
   "source": [
    "#### WRITE ANSWER HERE\n",
    "\n"
   ]
  },
  {
   "cell_type": "markdown",
   "metadata": {},
   "source": [
    "精度は上がっていそう  \n",
    "5や7を正しく予測できている  "
   ]
  },
  {
   "cell_type": "code",
   "execution_count": null,
   "metadata": {},
   "outputs": [],
   "source": []
  }
 ],
 "metadata": {
  "kernelspec": {
   "display_name": "Python 3 (ipykernel)",
   "language": "python",
   "name": "python3"
  },
  "language_info": {
   "codemirror_mode": {
    "name": "ipython",
    "version": 3
   },
   "file_extension": ".py",
   "mimetype": "text/x-python",
   "name": "python",
   "nbconvert_exporter": "python",
   "pygments_lexer": "ipython3",
   "version": "3.7.13"
  }
 },
 "nbformat": 4,
 "nbformat_minor": 2
}
