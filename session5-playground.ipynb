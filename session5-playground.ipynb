{
 "cells": [
  {
   "cell_type": "markdown",
   "metadata": {},
   "source": [
    "## Session5 - playground"
   ]
  },
  {
   "cell_type": "markdown",
   "metadata": {},
   "source": [
    "- Import the necessary packages\n",
    "- Load the iris dataset\n",
    "- Create the observations `X` and labels `y`\n",
    "\n",
    "\n",
    "- 必要なパッケージをインポートします\n",
    "- アヤメのデータセットを読み込みます\n",
    "- 観測値`X`とラベル`y`を作成します"
   ]
  },
  {
   "cell_type": "code",
   "execution_count": 30,
   "metadata": {},
   "outputs": [
    {
     "name": "stdout",
     "output_type": "stream",
     "text": [
      "X has shape: (150, 4)\n",
      "y has shape: (150,)\n"
     ]
    }
   ],
   "source": [
    "import numpy as np\n",
    "import matplotlib as mpl\n",
    "import matplotlib.pyplot as plt\n",
    "\n",
    "# Load data\n",
    "iris = np.genfromtxt('iris_data.csv', delimiter=',')\n",
    "\n",
    "X = iris[:,1:]\n",
    "y = iris[:,0]\n",
    "print(\"X has shape:\", X.shape)\n",
    "print(\"y has shape:\", y.shape)"
   ]
  },
  {
   "cell_type": "markdown",
   "metadata": {},
   "source": [
    "## TASK 1: preparation\n",
    "\n",
    "Copy your code for data preparation from day1, session4-playground1 (both TASK1 and TASK2) in the cell below and execute it.\n",
    "\n",
    "以下のセルにday1のsession4-playground1からデータ準備用のコード（TASK1とTASK2の両方）をコピーして、実行してください。"
   ]
  },
  {
   "cell_type": "code",
   "execution_count": 31,
   "metadata": {},
   "outputs": [],
   "source": [
    "## YOUR CODE HERE\n",
    "from sklearn.model_selection import train_test_split\n",
    "from sklearn.preprocessing import StandardScaler\n",
    "\n",
    "#Split data\n",
    "X_train, X_test, y_train, y_test  = train_test_split(X, y, test_size=0.3)\n",
    "\n",
    "#Standardization of data\n",
    "scaler = StandardScaler()\n",
    "\n",
    "scaler.fit(X_train);\n",
    "\n",
    "X_train_raw = X_train\n",
    "X_train = scaler.transform(X_train_raw)\n",
    "\n",
    "X_test_raw = X_test\n",
    "X_test = scaler.transform(X_test_raw)"
   ]
  },
  {
   "cell_type": "markdown",
   "metadata": {},
   "source": [
    "## TASK 2\n",
    "- Create and train a linear support vector classifier\n",
    "\n",
    "\n",
    "- 線形サポートベクトル分類器を作成し、トレーニングさせる"
   ]
  },
  {
   "cell_type": "code",
   "execution_count": 32,
   "metadata": {},
   "outputs": [
    {
     "name": "stdout",
     "output_type": "stream",
     "text": [
      "1.0 [[-0.33889338 -0.1337266   0.36814532  0.30751308]]\n",
      "True Flower type: 1.0\n",
      "Prediction: 1.0\n",
      "This is a correct prediction\n"
     ]
    }
   ],
   "source": [
    "## YOUR CODE HERE\n",
    "from sklearn.svm import LinearSVC\n",
    "\n",
    "#Create the classifire\n",
    "linear_SVC = LinearSVC()\n",
    "linear_SVC.fit(X_train, y_train); \n",
    "\n",
    "#Training of the classifire\n",
    "i = 0\n",
    "\n",
    "# The ith test sample is composed of\n",
    "# the label\n",
    "y_i = y_test[i]\n",
    "# the features (reshape is used because predict needs a 2D array)\n",
    "X_i = X_test[i].reshape(1, -1)\n",
    "\n",
    "print(y_i, X_i)\n",
    "\n",
    "# Show the truth\n",
    "print(\"True Flower type:\", y_i)\n",
    "\n",
    "# Using predict method\n",
    "# the input X_i is an array with a single feature\n",
    "# the result is an array with a single element\n",
    "y_pred = linear_SVC.predict(X_i)\n",
    "y_pred = y_pred[0]\n",
    "\n",
    "print(\"Prediction:\", y_pred)\n",
    "\n",
    "# Check the prediction\n",
    "if y_pred == y_i:\n",
    "    print(\"This is a correct prediction\")\n",
    "else:\n",
    "    print(\"This is not a correct prediction\")   \n",
    "\n",
    "#Applying the pridict function to the whole testing set\n",
    "y_pred = linear_SVC.predict(X_test)"
   ]
  },
  {
   "cell_type": "markdown",
   "metadata": {},
   "source": [
    "## TASK 3\n",
    "- Predict the labels for the test features\n",
    "\n",
    "\n",
    "- テストデータのラベルを予測する"
   ]
  },
  {
   "cell_type": "code",
   "execution_count": 33,
   "metadata": {},
   "outputs": [
    {
     "name": "stdout",
     "output_type": "stream",
     "text": [
      "(45,) (45,)\n",
      "True labels: 1.0 \t Predicted labels: 1.0 \tCorrect prediction: True\n",
      "True labels: 0.0 \t Predicted labels: 0.0 \tCorrect prediction: True\n",
      "True labels: 0.0 \t Predicted labels: 0.0 \tCorrect prediction: True\n",
      "True labels: 0.0 \t Predicted labels: 0.0 \tCorrect prediction: True\n",
      "True labels: 2.0 \t Predicted labels: 1.0 \tCorrect prediction: False\n",
      "True labels: 0.0 \t Predicted labels: 0.0 \tCorrect prediction: True\n",
      "True labels: 1.0 \t Predicted labels: 1.0 \tCorrect prediction: True\n",
      "True labels: 1.0 \t Predicted labels: 1.0 \tCorrect prediction: True\n",
      "True labels: 0.0 \t Predicted labels: 0.0 \tCorrect prediction: True\n",
      "True labels: 2.0 \t Predicted labels: 1.0 \tCorrect prediction: False\n"
     ]
    }
   ],
   "source": [
    "## YOUR CODE HERE\n",
    "# Compare the prediction to the truth\n",
    "res = (y_pred == y_test)\n",
    "\n",
    "print(y_pred.shape, y_test.shape)\n",
    "\n",
    "# Show a few examples\n",
    "for i in range(10):\n",
    "    print(\"True labels:\", y_test[i],  \"\\t Predicted labels:\", y_pred[i], \"\\tCorrect prediction:\", res[i])"
   ]
  },
  {
   "cell_type": "markdown",
   "metadata": {},
   "source": [
    "## TASK 4\n",
    "- Show the confusion matrix\n",
    "- Compute the accuracy (you should obtain more than 0.9 (90%) accuracy)\n",
    "\n",
    "\n",
    "- 混同行列を表示する\n",
    "- 精度を計算する（0.9（90％）以上の精度が得られるはずです）"
   ]
  },
  {
   "cell_type": "code",
   "execution_count": 34,
   "metadata": {},
   "outputs": [
    {
     "name": "stdout",
     "output_type": "stream",
     "text": [
      "[[15  0  0]\n",
      " [ 0 19  1]\n",
      " [ 0  2  8]]\n",
      "The number of correctly predicted 0 is given by CM[0,0] = 15 \n",
      "\n",
      "The number of correctly predicted 1 is given by CM[1,1] = 19 \n",
      "\n",
      "The number of correctly predicted 2 is given by CM[2,2] = 8 \n",
      "\n",
      "Accuracy: 0.93\n"
     ]
    }
   ],
   "source": [
    "## YOUR CODE HERE\n",
    "from sklearn.metrics import confusion_matrix\n",
    "\n",
    "CM = confusion_matrix(y_test, y_pred)\n",
    "print(CM)\n",
    "\n",
    "for i in range(3):\n",
    "    print(\"The number of correctly predicted {} is given by CM[{},{}] = {} \\n\".format(i, i, i, CM[i, i]))\n",
    "    \n",
    "A = np.sum(np.diag(CM)) / np.sum(CM)\n",
    "print(\"Accuracy: {:.02f}\".format(A))"
   ]
  },
  {
   "cell_type": "markdown",
   "metadata": {},
   "source": [
    "## OPTIONAL 1\n",
    "- Run the training another time and compare (tip: you can use `Cell -> Run All` from the menu)\n",
    "- Change the proportion of test samples and see the impact on the performance\n",
    "\n",
    "\n",
    "- トレーニングをもう一度実行して、結果を比較します（ヒント：メニューから`Cell -> Run All`を利用できます）\n",
    "- テストサンプルの比率を変更し、パフォーマンスへの影響を確認する"
   ]
  },
  {
   "cell_type": "code",
   "execution_count": 35,
   "metadata": {},
   "outputs": [
    {
     "name": "stdout",
     "output_type": "stream",
     "text": [
      "2.0 [[1.677268   1.3181703  1.36746198 1.76190218]]\n",
      "True Flower type: 2.0\n",
      "Prediction: 2.0\n",
      "This is a correct prediction\n",
      "(75,) (75,)\n",
      "True labels: 2.0 \t Predicted labels: 2.0 \tCorrect prediction: True\n",
      "True labels: 2.0 \t Predicted labels: 2.0 \tCorrect prediction: True\n",
      "True labels: 2.0 \t Predicted labels: 2.0 \tCorrect prediction: True\n",
      "True labels: 0.0 \t Predicted labels: 0.0 \tCorrect prediction: True\n",
      "True labels: 0.0 \t Predicted labels: 0.0 \tCorrect prediction: True\n",
      "True labels: 1.0 \t Predicted labels: 1.0 \tCorrect prediction: True\n",
      "True labels: 1.0 \t Predicted labels: 1.0 \tCorrect prediction: True\n",
      "True labels: 2.0 \t Predicted labels: 2.0 \tCorrect prediction: True\n",
      "True labels: 2.0 \t Predicted labels: 2.0 \tCorrect prediction: True\n",
      "True labels: 0.0 \t Predicted labels: 0.0 \tCorrect prediction: True\n",
      "Accuracy: 0.93\n"
     ]
    }
   ],
   "source": [
    "## YOUR CODE HERE\n",
    "from sklearn.metrics import accuracy_score\n",
    "\n",
    "#-----Split data\n",
    "X_train, X_test, y_train, y_test  = train_test_split(X, y, test_size=0.5)\n",
    "\n",
    "#-----Standardization of data\n",
    "scaler = StandardScaler()\n",
    "\n",
    "scaler.fit(X_train);\n",
    "\n",
    "X_train_raw = X_train\n",
    "X_train = scaler.transform(X_train_raw)\n",
    "\n",
    "X_test_raw = X_test\n",
    "X_test = scaler.transform(X_test_raw)\n",
    "\n",
    "#-----Create the classifire\n",
    "linear_SVC = LinearSVC()\n",
    "linear_SVC.fit(X_train, y_train); \n",
    "\n",
    "#-----Training of the classifire\n",
    "i = 0\n",
    "\n",
    "# The ith test sample is composed of\n",
    "# the label\n",
    "y_i = y_test[i]\n",
    "# the features (reshape is used because predict needs a 2D array)\n",
    "X_i = X_test[i].reshape(1, -1)\n",
    "\n",
    "print(y_i, X_i)\n",
    "\n",
    "# Show the truth\n",
    "print(\"True Flower type:\", y_i)\n",
    "\n",
    "#-----Using predict method\n",
    "# the input X_i is an array with a single feature\n",
    "# the result is an array with a single element\n",
    "y_pred = linear_SVC.predict(X_i)\n",
    "y_pred = y_pred[0]\n",
    "\n",
    "print(\"Prediction:\", y_pred)\n",
    "\n",
    "#-----Check the prediction\n",
    "if y_pred == y_i:\n",
    "    print(\"This is a correct prediction\")\n",
    "else:\n",
    "    print(\"This is not a correct prediction\")   \n",
    "\n",
    "# Applying the pridict function to the whole testing set\n",
    "y_pred = linear_SVC.predict(X_test)\n",
    "\n",
    "# Compare the prediction to the truth\n",
    "res = (y_pred == y_test)\n",
    "\n",
    "print(y_pred.shape, y_test.shape)\n",
    "\n",
    "#-----Show a few examples\n",
    "for i in range(10):\n",
    "    print(\"True labels:\", y_test[i],  \"\\t Predicted labels:\", y_pred[i], \"\\tCorrect prediction:\", res[i])\n",
    "    \n",
    "#-----accuracy score\n",
    "A = accuracy_score(y_test,  y_pred)\n",
    "print(\"Accuracy: {:.02f}\".format(A))"
   ]
  },
  {
   "cell_type": "markdown",
   "metadata": {},
   "source": [
    "## OPTIONAL 2\n",
    "\n",
    "The splitting between training and testing set does not care if there is an \"equal\" number of each flower type in the sets.\n",
    "\n",
    "- Write some code to split the dataset randomly and care about having an equal representation of each flower type (you can start from the code for manually spliting in the main notebook)\n",
    "- Test the average performance of the classifier using this dataset splitting method\n",
    "\n",
    "トレーニングセットとテストセットの分割は、セット内の各花の種類が「等しい」数であるかどうかを考慮していません。\n",
    "\n",
    "- データセットをランダムに分割し、各花の種類の数が同じになるためのコードを実装してください（ヒント：メインのノートブックにある手動の分割のコードを元に開発できます）\n",
    "- このデータセット分割方法を使用して、分類器の平均パフォーマンスを確認してください"
   ]
  },
  {
   "cell_type": "code",
   "execution_count": 36,
   "metadata": {},
   "outputs": [
    {
     "name": "stdout",
     "output_type": "stream",
     "text": [
      "Accuracy: 0.92\n",
      "Accuracy: 0.92\n",
      "Accuracy: 0.92\n"
     ]
    }
   ],
   "source": [
    "## YOUR CODE HERE\n",
    "X_train, X_test, y_train, y_test = [], [], [], []\n",
    "\n",
    "for i in range(3):\n",
    "    y, X = [x[0] for x in iris if x[0]==i], [x[1:5] for x in iris if x[0]==i]\n",
    "    X_train2, X_test2, y_train2, y_test2 = train_test_split(X, y, test_size=0.5)\n",
    "    X_train = X_train + X_train2\n",
    "    X_test = X_test + X_test2\n",
    "    y_train = y_train + y_train2\n",
    "    y_test = y_test + y_test2\n",
    "    \n",
    "X_train_raw = X_train\n",
    "X_train = scaler.transform(X_train_raw)\n",
    "\n",
    "X_test_raw = X_test\n",
    "X_test = scaler.transform(X_test_raw)\n",
    "\n",
    "from sklearn.svm import LinearSVC\n",
    "from sklearn.metrics import accuracy_score\n",
    "\n",
    "#first\n",
    "linear_SVC1 = LinearSVC()\n",
    "linear_SVC1.fit(X_train, y_train) ;\n",
    "\n",
    "y_pred = linear_SVC1.predict(X_test)\n",
    "\n",
    "A = accuracy_score(y_test, y_pred)\n",
    "print(\"Accuracy: {:.02f}\".format(A))\n",
    "\n",
    "#second\n",
    "linear_SVC2 = LinearSVC()\n",
    "linear_SVC2.fit(X_train, y_train) ;\n",
    "\n",
    "y_pred = linear_SVC2.predict(X_test)\n",
    "\n",
    "B = accuracy_score(y_test, y_pred)\n",
    "print(\"Accuracy: {:.02f}\".format(B))\n",
    "\n",
    "#average\n",
    "mean = (A + B) / 2\n",
    "print(\"Accuracy: {:.02f}\".format(mean))"
   ]
  },
  {
   "cell_type": "code",
   "execution_count": null,
   "metadata": {},
   "outputs": [],
   "source": []
  }
 ],
 "metadata": {
  "kernelspec": {
   "display_name": "Python 3 (ipykernel)",
   "language": "python",
   "name": "python3"
  },
  "language_info": {
   "codemirror_mode": {
    "name": "ipython",
    "version": 3
   },
   "file_extension": ".py",
   "mimetype": "text/x-python",
   "name": "python",
   "nbconvert_exporter": "python",
   "pygments_lexer": "ipython3",
   "version": "3.7.13"
  }
 },
 "nbformat": 4,
 "nbformat_minor": 2
}
