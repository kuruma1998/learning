{
 "cells": [
  {
   "cell_type": "markdown",
   "metadata": {},
   "source": [
    "## Session 2 - playground"
   ]
  },
  {
   "cell_type": "markdown",
   "metadata": {},
   "source": [
    "First we import the numpy library, then read the data from the file.\n",
    "\n",
    "まずはnumpyライブラリをインポートしてから、ファイルからデータを読み取ります。"
   ]
  },
  {
   "cell_type": "code",
   "execution_count": 1,
   "metadata": {},
   "outputs": [],
   "source": [
    "import numpy as np"
   ]
  },
  {
   "cell_type": "code",
   "execution_count": 6,
   "metadata": {},
   "outputs": [
    {
     "data": {
      "text/plain": [
       "(150, 5)"
      ]
     },
     "execution_count": 6,
     "metadata": {},
     "output_type": "execute_result"
    }
   ],
   "source": [
    "iris = np.genfromtxt('iris_data.csv', delimiter=',')\n",
    "iris.shape"
   ]
  },
  {
   "cell_type": "markdown",
   "metadata": {},
   "source": [
    "## TASK 1\n",
    "\n",
    "Extract a block containing the data for the sepals only (both length and width) and print it.\n",
    "\n",
    "花のがくのみのデータ（長さと幅）を含むブロック(部分)を抽出して。プリントしてください。\n",
    "\n",
    "---\n",
    "Summary of the data structure / データ構造の概要\n",
    "\n",
    "     1.花のタイプ\n",
    "     2.がく片の長さ\n",
    "     3.がく片の幅\n",
    "     4.花びらの長さ\n",
    "     5.花びらの幅\n",
    "\n",
    "-。\n",
    "     -アイリスセトサの場合は50（0）\n",
    "     -アイリスバーシクラー用50（1）\n",
    "     -50はアイリスヴァージニカ（2）\n",
    "\n",
    "- Each row corresponds to one data point and contains five values / 各行は1つのサンプルに対応し、5つの値が含まれます:\n",
    "    1. flower type / 花の種類\n",
    "    2. sepal length / がくの長さ\n",
    "    3. sepal width / がくの幅\n",
    "    4. petal length / 花びらの長さ\n",
    "    5. petal width / 花びらの幅\n",
    "- Each of the species has 50 data points / それぞれの花の種類には50のサンプルがあります\n",
    "    - 0 = iris setosa / ヒオウギアヤメ\n",
    "    - 1 = iris versiclor / ブルーフラッグ\n",
    "    - 2 = iris virginica / バージニカ"
   ]
  },
  {
   "cell_type": "code",
   "execution_count": 8,
   "metadata": {},
   "outputs": [
    {
     "data": {
      "text/plain": [
       "(150, 2)"
      ]
     },
     "execution_count": 8,
     "metadata": {},
     "output_type": "execute_result"
    }
   ],
   "source": [
    "## YOUR CODE HERE\n",
    "calyx = iris[:,1:3]\n",
    "calyx.shape"
   ]
  },
  {
   "cell_type": "code",
   "execution_count": 9,
   "metadata": {
    "collapsed": true
   },
   "outputs": [
    {
     "name": "stdout",
     "output_type": "stream",
     "text": [
      "[[5.1 3.5]\n",
      " [4.9 3. ]\n",
      " [4.7 3.2]\n",
      " [4.6 3.1]\n",
      " [5.  3.6]\n",
      " [5.4 3.9]\n",
      " [4.6 3.4]\n",
      " [5.  3.4]\n",
      " [4.4 2.9]\n",
      " [4.9 3.1]\n",
      " [5.4 3.7]\n",
      " [4.8 3.4]\n",
      " [4.8 3. ]\n",
      " [4.3 3. ]\n",
      " [5.8 4. ]\n",
      " [5.7 4.4]\n",
      " [5.4 3.9]\n",
      " [5.1 3.5]\n",
      " [5.7 3.8]\n",
      " [5.1 3.8]\n",
      " [5.4 3.4]\n",
      " [5.1 3.7]\n",
      " [4.6 3.6]\n",
      " [5.1 3.3]\n",
      " [4.8 3.4]\n",
      " [5.  3. ]\n",
      " [5.  3.4]\n",
      " [5.2 3.5]\n",
      " [5.2 3.4]\n",
      " [4.7 3.2]\n",
      " [4.8 3.1]\n",
      " [5.4 3.4]\n",
      " [5.2 4.1]\n",
      " [5.5 4.2]\n",
      " [4.9 3.1]\n",
      " [5.  3.2]\n",
      " [5.5 3.5]\n",
      " [4.9 3.1]\n",
      " [4.4 3. ]\n",
      " [5.1 3.4]\n",
      " [5.  3.5]\n",
      " [4.5 2.3]\n",
      " [4.4 3.2]\n",
      " [5.  3.5]\n",
      " [5.1 3.8]\n",
      " [4.8 3. ]\n",
      " [5.1 3.8]\n",
      " [4.6 3.2]\n",
      " [5.3 3.7]\n",
      " [5.  3.3]\n",
      " [7.  3.2]\n",
      " [6.4 3.2]\n",
      " [6.9 3.1]\n",
      " [5.5 2.3]\n",
      " [6.5 2.8]\n",
      " [5.7 2.8]\n",
      " [6.3 3.3]\n",
      " [4.9 2.4]\n",
      " [6.6 2.9]\n",
      " [5.2 2.7]\n",
      " [5.  2. ]\n",
      " [5.9 3. ]\n",
      " [6.  2.2]\n",
      " [6.1 2.9]\n",
      " [5.6 2.9]\n",
      " [6.7 3.1]\n",
      " [5.6 3. ]\n",
      " [5.8 2.7]\n",
      " [6.2 2.2]\n",
      " [5.6 2.5]\n",
      " [5.9 3.2]\n",
      " [6.1 2.8]\n",
      " [6.3 2.5]\n",
      " [6.1 2.8]\n",
      " [6.4 2.9]\n",
      " [6.6 3. ]\n",
      " [6.8 2.8]\n",
      " [6.7 3. ]\n",
      " [6.  2.9]\n",
      " [5.7 2.6]\n",
      " [5.5 2.4]\n",
      " [5.5 2.4]\n",
      " [5.8 2.7]\n",
      " [6.  2.7]\n",
      " [5.4 3. ]\n",
      " [6.  3.4]\n",
      " [6.7 3.1]\n",
      " [6.3 2.3]\n",
      " [5.6 3. ]\n",
      " [5.5 2.5]\n",
      " [5.5 2.6]\n",
      " [6.1 3. ]\n",
      " [5.8 2.6]\n",
      " [5.  2.3]\n",
      " [5.6 2.7]\n",
      " [5.7 3. ]\n",
      " [5.7 2.9]\n",
      " [6.2 2.9]\n",
      " [5.1 2.5]\n",
      " [5.7 2.8]\n",
      " [6.3 3.3]\n",
      " [5.8 2.7]\n",
      " [7.1 3. ]\n",
      " [6.3 2.9]\n",
      " [6.5 3. ]\n",
      " [7.6 3. ]\n",
      " [4.9 2.5]\n",
      " [7.3 2.9]\n",
      " [6.7 2.5]\n",
      " [7.2 3.6]\n",
      " [6.5 3.2]\n",
      " [6.4 2.7]\n",
      " [6.8 3. ]\n",
      " [5.7 2.5]\n",
      " [5.8 2.8]\n",
      " [6.4 3.2]\n",
      " [6.5 3. ]\n",
      " [7.7 3.8]\n",
      " [7.7 2.6]\n",
      " [6.  2.2]\n",
      " [6.9 3.2]\n",
      " [5.6 2.8]\n",
      " [7.7 2.8]\n",
      " [6.3 2.7]\n",
      " [6.7 3.3]\n",
      " [7.2 3.2]\n",
      " [6.2 2.8]\n",
      " [6.1 3. ]\n",
      " [6.4 2.8]\n",
      " [7.2 3. ]\n",
      " [7.4 2.8]\n",
      " [7.9 3.8]\n",
      " [6.4 2.8]\n",
      " [6.3 2.8]\n",
      " [6.1 2.6]\n",
      " [7.7 3. ]\n",
      " [6.3 3.4]\n",
      " [6.4 3.1]\n",
      " [6.  3. ]\n",
      " [6.9 3.1]\n",
      " [6.7 3.1]\n",
      " [6.9 3.1]\n",
      " [5.8 2.7]\n",
      " [6.8 3.2]\n",
      " [6.7 3.3]\n",
      " [6.7 3. ]\n",
      " [6.3 2.5]\n",
      " [6.5 3. ]\n",
      " [6.2 3.4]\n",
      " [5.9 3. ]]\n"
     ]
    }
   ],
   "source": [
    "print(calyx)"
   ]
  },
  {
   "cell_type": "markdown",
   "metadata": {},
   "source": [
    "## TASK 2\n",
    "Print out the average of the sepal length of each of the three species.\n",
    "\n",
    "それぞれ3種の花のがくの長さの平均をプリントしてください。\n",
    "\n",
    "---\n",
    "Iris setosa (ヒオウギアヤメ), Iris versicolor (ブルーフラッグ), Iris virginica (バージニカ)"
   ]
  },
  {
   "cell_type": "code",
   "execution_count": 26,
   "metadata": {},
   "outputs": [
    {
     "name": "stdout",
     "output_type": "stream",
     "text": [
      "setosa:  5.006\n",
      "versicolor:  5.936\n",
      "virginica:  6.587999999999998\n"
     ]
    }
   ],
   "source": [
    "## YOUR CODE HERE\n",
    "print(\"setosa: \",np.average(calyx[0:50,0]))\n",
    "print(\"versicolor: \",np.average(calyx[50:100,0]))\n",
    "print(\"virginica: \",np.average(calyx[100:150,0]))\n",
    "\n",
    "＊iris配列を使ってそれぞれのがくの長さを取り出すには？もっとスマートな書き方ありそう\n",
    "meansで出すには？\n",
    "\n",
    "#重み付き平均：加重平均\n",
    "#calyx[0:50,0]を変数に入れても良い→もっと見やすくなる"
   ]
  },
  {
   "cell_type": "markdown",
   "metadata": {},
   "source": [
    "## OPTIONAL 1\n",
    "Calculate the largest observed petal width for the iris setosa.\n",
    "\n",
    "ヒオウギアヤメの花びらの最大幅を計算してください。"
   ]
  },
  {
   "cell_type": "code",
   "execution_count": 41,
   "metadata": {},
   "outputs": [
    {
     "name": "stdout",
     "output_type": "stream",
     "text": [
      "0.6\n"
     ]
    }
   ],
   "source": [
    "## YOUR CODE HERE\n",
    "setosa_petal = iris[0:50,4]\n",
    "#print(setosa_petal)\n",
    "print(np.max(setosa_petal))"
   ]
  },
  {
   "cell_type": "markdown",
   "metadata": {},
   "source": [
    "## OPTIONAL 2\n",
    "\n",
    "Between the iris setosa and the iris versicolor, which has the largest petal surface? (surface $\\approx$ width x length)\n",
    "\n",
    "ヒオウギアヤメとブルーフラッグ、どちらが花びらの面積が大きいですか？ （面積 $\\approx$ 幅 x 長さ）"
   ]
  },
  {
   "cell_type": "code",
   "execution_count": 42,
   "metadata": {},
   "outputs": [
    {
     "name": "stdout",
     "output_type": "stream",
     "text": [
      "ヒオウギアヤメの花びら面積： 0.36280000000000007\n",
      "ブルーフラッグの花びら面積： 5.7204\n"
     ]
    }
   ],
   "source": [
    "## YOUR CODE HERE\n",
    "setosa_width = iris[0:50,4]\n",
    "setosa_length = iris[0:50, 3]\n",
    "#setosa_surface = sum(setosa_width * setosa_length)/50\n",
    "setosa_surface = np.mean(setosa_width * setosa_length)\n",
    "\n",
    "versicolor_width = iris[50:100, 4]\n",
    "versicolor_length = iris[50:100, 3]\n",
    "#versicolor_surface = sum(versicolor_width * versicolor_length)/50\n",
    "versicolor_surface = np.mean(versicolor_width * versicolor_length)\n",
    "\n",
    "print(\"ヒオウギアヤメの花びら面積：\", setosa_surface)\n",
    "print(\"ブルーフラッグの花びら面積：\", versicolor_surface)"
   ]
  },
  {
   "cell_type": "markdown",
   "metadata": {},
   "source": [
    "ブルーフラッグの方が大きい"
   ]
  }
 ],
 "metadata": {
  "kernelspec": {
   "display_name": "Python 3 (ipykernel)",
   "language": "python",
   "name": "python3"
  },
  "language_info": {
   "codemirror_mode": {
    "name": "ipython",
    "version": 3
   },
   "file_extension": ".py",
   "mimetype": "text/x-python",
   "name": "python",
   "nbconvert_exporter": "python",
   "pygments_lexer": "ipython3",
   "version": "3.9.7"
  }
 },
 "nbformat": 4,
 "nbformat_minor": 4
}
