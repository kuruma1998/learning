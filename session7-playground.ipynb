{
 "cells": [
  {
   "cell_type": "markdown",
   "metadata": {},
   "source": [
    "## Session7 - playground (optional)"
   ]
  },
  {
   "cell_type": "markdown",
   "metadata": {},
   "source": [
    "Here you can try doing the full machine learning workflow by yourself.\n",
    "\n",
    "You are free to use any dataset (but make sure it is a classification problem).\n",
    "<br>\n",
    "A good place to find datasets for trying out is the [UC Irvine Machine Learning Repository](http://archive.ics.uci.edu/ml/datasets.php). \n",
    "<br>\n",
    "Other places to look for datasets are [Kaggle](https://www.kaggle.com/datasets), [Amazon AWS](https://registry.opendata.aws/), or check the [list on Wikipedia](https://en.wikipedia.org/wiki/List_of_datasets_for_machine-learning_research).\n",
    "\n",
    "(Note that some datasets might not be in CSV format, so you may have to to preprocess the data.)\n",
    "\n",
    "ここでは、最初から最後までの機械学習ワークフローを自分で試すことができます。\n",
    "\n",
    "任意のデータセットを自由に使用できます（ただし、分類問題であることを確認してください）。\n",
    "<br>\n",
    "練習用のデータセットを見つけるのに適した場所は、 [UC Irvine Machine Learning Repository](http://archive.ics.uci.edu/ml/datasets.php)です。\n",
    "<br>\n",
    "それ以外、データセットを探す場所は、 [Kaggle](https://www.kaggle.com/datasets)、[Amazon AWS](https://registry.opendata.aws/)などがあります。または[ウィキペディアのリスト](https://en.wikipedia.org/wiki/List_of_datasets_for_machine-learning_research)を確認してください。\n",
    "\n",
    "（データセットはCSV形式でない場合があるため、データの前処理が必要になる場合があります。）"
   ]
  },
  {
   "cell_type": "code",
   "execution_count": 2,
   "metadata": {},
   "outputs": [],
   "source": [
    "import numpy as np\n",
    "import matplotlib as mpl\n",
    "import matplotlib.pyplot as plt"
   ]
  },
  {
   "cell_type": "markdown",
   "metadata": {},
   "source": [
    "## OPTIONAL 1 - Get the data / データの取得\n",
    "\n",
    "- Download the data file to the same folder as this notebook (.../day2/)\n",
    "- Load the data\n",
    "\n",
    "\n",
    "- データファイルをこのノートブックと同じフォルダにダウンロード（.../day2/）\n",
    "- データの読み込み"
   ]
  },
  {
   "cell_type": "markdown",
   "metadata": {},
   "source": [
    "Name / Data Type / Measurement Unit / Description\n",
    "-----------------------------\n",
    "Sex / nominal / -- / M, F, and I (infant)  \n",
    "Length / continuous / mm / Longest shell measurement  \n",
    "Diameter / continuous / mm / perpendicular to length  \n",
    "Height / continuous / mm / with meat in shell  \n",
    "Whole weight / continuous / grams / whole abalone  \n",
    "Shucked weight / continuous / grams / weight of meat  \n",
    "Viscera weight / continuous / grams / gut weight (after bleeding)  \n",
    "Shell weight / continuous / grams / after being dried  \n",
    "Rings / integer / -- / +1.5 gives the age in years  "
   ]
  },
  {
   "cell_type": "code",
   "execution_count": 3,
   "metadata": {},
   "outputs": [
    {
     "data": {
      "text/plain": [
       "array([], shape=(0, 9), dtype=float64)"
      ]
     },
     "execution_count": 3,
     "metadata": {},
     "output_type": "execute_result"
    }
   ],
   "source": [
    "data = np.genfromtxt('abalone.csv', delimiter=',',  encoding=\"utf-8\")\n",
    "data[:0]"
   ]
  },
  {
   "cell_type": "code",
   "execution_count": 4,
   "metadata": {},
   "outputs": [
    {
     "data": {
      "text/plain": [
       "array([0.455, 0.35 , 0.53 , ..., 0.6  , 0.625, 0.71 ])"
      ]
     },
     "execution_count": 4,
     "metadata": {},
     "output_type": "execute_result"
    }
   ],
   "source": [
    "data[:,1]"
   ]
  },
  {
   "cell_type": "markdown",
   "metadata": {},
   "source": [
    "## OPTIONAL 2 - Explore the data / データの探索\n",
    "\n",
    "- Try plotting some values to see how the dataset looks like\n",
    "\n",
    "\n",
    "- いくつかの値をプロットし、データがどのように見えるかを確認してください"
   ]
  },
  {
   "cell_type": "code",
   "execution_count": 5,
   "metadata": {},
   "outputs": [
    {
     "data": {
      "text/plain": [
       "<matplotlib.legend.Legend at 0x7f7a18949e50>"
      ]
     },
     "execution_count": 5,
     "metadata": {},
     "output_type": "execute_result"
    },
    {
     "data": {
      "image/png": "[encoded data removed]",
      "text/plain": [
       "<Figure size 432x288 with 1 Axes>"
      ]
     },
     "metadata": {
      "needs_background": "light"
     },
     "output_type": "display_data"
    }
   ],
   "source": [
    "## YOUR CODE HERE\n",
    "import matplotlib as mpl\n",
    "import matplotlib.pyplot as plt\n",
    "\n",
    "plt.hist(data[data[:,0] == 1,1], histtype='step', color=[0, 0, 1], label=\"Male\")\n",
    "plt.hist(data[data[:,0] == 2,1], histtype='step', color=[1, 0, 0], label=\"Female\")\n",
    "plt.hist(data[data[:,0] == 3,1], histtype='step', color=[0, 1, 0], label=\"Infant\")\n",
    "plt.xlabel(\"Length\")\n",
    "plt.ylabel(\"count\")\n",
    "plt.title(\"Histogram of Longest shell measurement\")\n",
    "plt.legend()"
   ]
  },
  {
   "cell_type": "markdown",
   "metadata": {},
   "source": [
    "## OPTIONAL 3 - Prepare the data / データの準備\n",
    "\n",
    "- Create a training and a testing set\n",
    "- Standardize the data\n",
    "\n",
    "\n",
    "- トレーニングとテストセットの作成\n",
    "- データの標準化"
   ]
  },
  {
   "cell_type": "code",
   "execution_count": 6,
   "metadata": {},
   "outputs": [
    {
     "name": "stdout",
     "output_type": "stream",
     "text": [
      "X train size: 699   X test size: 300\n"
     ]
    }
   ],
   "source": [
    "## YOUR CODE HERE\n",
    "X = data[1:1000,1:] # features\n",
    "y = data[1:1000,0] # labels\n",
    "\n",
    "# split\n",
    "from sklearn.model_selection import train_test_split\n",
    "X_train, X_test, y_train, y_test  = train_test_split(X, y, test_size=0.3)\n",
    "\n",
    "print(\"X train size:\", X_train.shape[0], \"  X test size:\", X_test.shape[0])\n",
    "\n",
    "# standardize\n",
    "from sklearn.preprocessing import StandardScaler\n",
    "scaler = StandardScaler()\n",
    "scaler.fit(X_train)\n",
    "X_train = scaler.transform(X_train)\n",
    "X_test = scaler.transform(X_test)"
   ]
  },
  {
   "cell_type": "markdown",
   "metadata": {},
   "source": [
    "## OPTIONAL 4 - Try several classifiers / いくつかの分類器を試す\n",
    "\n",
    "- Suggestions: `LogisticRegression` or `SGDClassifier` from the `sklearn.linear_model` package, or `RandomForestClassifier` from the `sklearn.ensemble` package, etc.\n",
    "\n",
    "\n",
    "- 提案：`sklearn.linear_model`パッケージ内の`LogisticRegression`か`SGDClassifier`、または`sklearn.ensemble`パッケージの`RandomForestClassifier`など"
   ]
  },
  {
   "cell_type": "code",
   "execution_count": 7,
   "metadata": {},
   "outputs": [
    {
     "name": "stdout",
     "output_type": "stream",
     "text": [
      "Accuracy: 0.5133333333333333\n"
     ]
    }
   ],
   "source": [
    "## YOUR CODE HERE\n",
    "from sklearn.metrics import accuracy_score\n",
    "\n",
    "##sklearn.linear_modelパッケージ内のLogisticRegression\n",
    "from sklearn.linear_model import LogisticRegression\n",
    "#from sklearn.model_selection import StratifiedKFold\n",
    "#from sklearn.model_selection import cross_validate\n",
    "\n",
    "# ロジスティック回帰\n",
    "clf = LogisticRegression()\n",
    "clf.fit(X_train, y_train)\n",
    "\n",
    "y_pred = clf.predict(X_test)\n",
    "accuracy = accuracy_score(y_test, y_pred)\n",
    "print('Accuracy: {}'.format(accuracy))"
   ]
  },
  {
   "cell_type": "code",
   "execution_count": 8,
   "metadata": {},
   "outputs": [
    {
     "name": "stdout",
     "output_type": "stream",
     "text": [
      "Accuracy: 0.48333333333333334\n"
     ]
    }
   ],
   "source": [
    "## sklearn.ensembleパッケージのRandomForestClassifier\n",
    "from sklearn.ensemble import RandomForestClassifier\n",
    "\n",
    "clf = RandomForestClassifier()\n",
    "clf.fit(X_train, y_train)\n",
    "\n",
    "y_pred = clf.predict(X_test)\n",
    "accuracy = accuracy_score(y_test, y_pred)\n",
    "print('Accuracy: {}'.format(accuracy))"
   ]
  },
  {
   "cell_type": "markdown",
   "metadata": {},
   "source": [
    "## OPTIONAL 5 - Make more detailed comparisons / より詳細な比較を行う\n",
    "\n",
    "- Use cross validation to get a better idea of the performance of the different classifiers \n",
    "- Measure the computation time of each classifier\n",
    "\n",
    "\n",
    "- 相互検証を使用して、さまざまな分類器のパフォーマンスをよりよく理解する\n",
    "- それぞれの分類器の計算時間を測定する"
   ]
  },
  {
   "cell_type": "code",
   "execution_count": 11,
   "metadata": {},
   "outputs": [
    {
     "name": "stdout",
     "output_type": "stream",
     "text": [
      "Time: 0.027135041000008187\n",
      "Test set score: 0.5133333333333333\n",
      "Cross-Validation scores: [0.515      0.475      0.355      0.46       0.55276382]\n",
      "Average score: 0.4715527638190954\n"
     ]
    }
   ],
   "source": [
    "## YOUR CODE HERE\n",
    "from sklearn.model_selection import StratifiedKFold\n",
    "from sklearn.model_selection import cross_validate\n",
    "from sklearn.model_selection import cross_val_score\n",
    "import timeit # 実行時間を計測するためのライブラリ\n",
    "\n",
    "# ロジスティック回帰\n",
    "clf = LogisticRegression(max_iter=1500)\n",
    "time = timeit.timeit(lambda: clf.fit(X_train, y_train), number=1)\n",
    "print('Time: {}'.format(time))\n",
    "\n",
    "#評価\n",
    "score = clf.score(X_test, y_test)\n",
    "print('Test set score: {}'.format(score))\n",
    "\n",
    "#cross validation\n",
    "scores = cross_val_score(clf, X, y)\n",
    "\n",
    "# 各分割におけるスコア\n",
    "print('Cross-Validation scores: {}'.format(scores))\n",
    "# スコアの平均値\n",
    "import numpy as np\n",
    "print('Average score: {}'.format(np.mean(scores)))"
   ]
  },
  {
   "cell_type": "markdown",
   "metadata": {},
   "source": [
    "## エラー解決方法\n",
    "エラー内容：STOP: TOTAL NO. of ITERATIONS REACHED LIMIT.  \n",
    "エラー原因：LogisticRegressionの最大反復回数に達しなかった  \n",
    "エラー解決：最大反復回数をmax_iterで設定、デフォルトの1000より大きい数を設定する  \n",
    "参考：https://qiita.com/tatsu2015/items/8f01c89aa053e12e63b2  "
   ]
  },
  {
   "cell_type": "code",
   "execution_count": null,
   "metadata": {},
   "outputs": [],
   "source": []
  }
 ],
 "metadata": {
  "kernelspec": {
   "display_name": "Python 3 (ipykernel)",
   "language": "python",
   "name": "python3"
  },
  "language_info": {
   "codemirror_mode": {
    "name": "ipython",
    "version": 3
   },
   "file_extension": ".py",
   "mimetype": "text/x-python",
   "name": "python",
   "nbconvert_exporter": "python",
   "pygments_lexer": "ipython3",
   "version": "3.7.13"
  }
 },
 "nbformat": 4,
 "nbformat_minor": 2
}
